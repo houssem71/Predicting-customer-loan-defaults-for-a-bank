{
  "nbformat": 4,
  "nbformat_minor": 0,
  "metadata": {
    "colab": {
      "name": "SI project.ipynb",
      "provenance": [],
      "collapsed_sections": []
    },
    "kernelspec": {
      "name": "python3",
      "display_name": "Python 3"
    },
    "accelerator": "GPU"
  },
  "cells": [
    {
      "cell_type": "code",
      "metadata": {
        "id": "pfXyy1FfdY3h",
        "colab_type": "code",
        "colab": {}
      },
      "source": [
        "import pandas as pd\n",
        "import numpy as np\n",
        "import matplotlib.pyplot as plt\n",
        "from sklearn.model_selection import train_test_split\n",
        "from sklearn.preprocessing import StandardScaler\n",
        "from sklearn.model_selection import KFold, cross_val_score\n",
        "from sklearn.metrics import mean_squared_error\n",
        "import seaborn as sns  #advanced visualization library\n",
        "from sklearn.linear_model import LogisticRegression\n",
        "from sklearn.svm import SVC, LinearSVC\n",
        "from sklearn.ensemble import RandomForestClassifier\n",
        "from sklearn.neighbors import KNeighborsClassifier\n",
        "from sklearn.naive_bayes import GaussianNB\n",
        "from sklearn.linear_model import Perceptron\n",
        "from sklearn.linear_model import SGDClassifier\n",
        "from sklearn.tree import DecisionTreeClassifier\n",
        "import requests, zipfile, io\n",
        "import warnings\n",
        "\n",
        "warnings.filterwarnings('ignore')\n",
        "data=pd.read_csv(\"/content/ff.csv\",encoding = \"ISO-8859-1\")\n",
        "data=data.drop('Unnamed: 0',axis=1)"
      ],
      "execution_count": 0,
      "outputs": []
    },
    {
      "cell_type": "code",
      "metadata": {
        "id": "Cr3_JtCadm2n",
        "colab_type": "code",
        "outputId": "6aff7734-d2ab-4a1f-fc1d-10a3e7f12489",
        "colab": {
          "base_uri": "https://localhost:8080/",
          "height": 638
        }
      },
      "source": [
        "data.head()"
      ],
      "execution_count": 0,
      "outputs": [
        {
          "output_type": "execute_result",
          "data": {
            "text/html": [
              "<div>\n",
              "<style scoped>\n",
              "    .dataframe tbody tr th:only-of-type {\n",
              "        vertical-align: middle;\n",
              "    }\n",
              "\n",
              "    .dataframe tbody tr th {\n",
              "        vertical-align: top;\n",
              "    }\n",
              "\n",
              "    .dataframe thead th {\n",
              "        text-align: right;\n",
              "    }\n",
              "</style>\n",
              "<table border=\"1\" class=\"dataframe\">\n",
              "  <thead>\n",
              "    <tr style=\"text-align: right;\">\n",
              "      <th></th>\n",
              "      <th>Solde du compte courant</th>\n",
              "      <th>Durée de crédit (en mois)</th>\n",
              "      <th>Historique des crédits</th>\n",
              "      <th>Motif</th>\n",
              "      <th>Montant du crédit</th>\n",
              "      <th>Compte d'épargne / obligations</th>\n",
              "      <th>Employé depuis</th>\n",
              "      <th>Statut personnel et sexe</th>\n",
              "      <th>Autres débiteurs / garants</th>\n",
              "      <th>Résidence actuelle depuis</th>\n",
              "      <th>Age</th>\n",
              "      <th>Logement</th>\n",
              "      <th>Nombre de crédits existants dans cette banque</th>\n",
              "      <th>Emploi</th>\n",
              "      <th>Nombre de personnes à charge</th>\n",
              "      <th>Statut</th>\n",
              "    </tr>\n",
              "  </thead>\n",
              "  <tbody>\n",
              "    <tr>\n",
              "      <th>0</th>\n",
              "      <td>moins que 0</td>\n",
              "      <td>6</td>\n",
              "      <td>compte critique / autres crédits existants (pa...</td>\n",
              "      <td>Télévision</td>\n",
              "      <td>1169</td>\n",
              "      <td>Pas de compte épargne</td>\n",
              "      <td>supérieur 7ans</td>\n",
              "      <td>Homme : Célibataire</td>\n",
              "      <td>Aucun</td>\n",
              "      <td>4</td>\n",
              "      <td>67</td>\n",
              "      <td>Propriétaire</td>\n",
              "      <td>2</td>\n",
              "      <td>Employé/Fonctionnaire</td>\n",
              "      <td>1</td>\n",
              "      <td>Solvable</td>\n",
              "    </tr>\n",
              "    <tr>\n",
              "      <th>1</th>\n",
              "      <td>entre 0 et 200</td>\n",
              "      <td>48</td>\n",
              "      <td>crédits déjà remboursés jusqu'à maintenant</td>\n",
              "      <td>Télévision</td>\n",
              "      <td>5951</td>\n",
              "      <td>moins que 100</td>\n",
              "      <td>entre 1 ans  et 4ans</td>\n",
              "      <td>: Femme : Divorcée/Mariée</td>\n",
              "      <td>Aucun</td>\n",
              "      <td>2</td>\n",
              "      <td>22</td>\n",
              "      <td>Propriétaire</td>\n",
              "      <td>1</td>\n",
              "      <td>Employé/Fonctionnaire</td>\n",
              "      <td>1</td>\n",
              "      <td>Non solvable</td>\n",
              "    </tr>\n",
              "    <tr>\n",
              "      <th>2</th>\n",
              "      <td>pas de compte courant</td>\n",
              "      <td>12</td>\n",
              "      <td>compte critique / autres crédits existants (pa...</td>\n",
              "      <td>Education</td>\n",
              "      <td>2096</td>\n",
              "      <td>moins que 100</td>\n",
              "      <td>entre 4ans et 7ans</td>\n",
              "      <td>Homme : Célibataire</td>\n",
              "      <td>Aucun</td>\n",
              "      <td>3</td>\n",
              "      <td>49</td>\n",
              "      <td>Propriétaire</td>\n",
              "      <td>1</td>\n",
              "      <td>non qualifié - résident</td>\n",
              "      <td>2</td>\n",
              "      <td>Solvable</td>\n",
              "    </tr>\n",
              "    <tr>\n",
              "      <th>3</th>\n",
              "      <td>moins que 0</td>\n",
              "      <td>42</td>\n",
              "      <td>crédits déjà remboursés jusqu'à maintenant</td>\n",
              "      <td>fourniture/équipement</td>\n",
              "      <td>7882</td>\n",
              "      <td>moins que 100</td>\n",
              "      <td>entre 4ans et 7ans</td>\n",
              "      <td>Homme : Célibataire</td>\n",
              "      <td>Garant</td>\n",
              "      <td>4</td>\n",
              "      <td>45</td>\n",
              "      <td>Gratuitement</td>\n",
              "      <td>1</td>\n",
              "      <td>Employé/Fonctionnaire</td>\n",
              "      <td>2</td>\n",
              "      <td>Solvable</td>\n",
              "    </tr>\n",
              "    <tr>\n",
              "      <th>4</th>\n",
              "      <td>moins que 0</td>\n",
              "      <td>24</td>\n",
              "      <td>retard dans le paiement dans le passé</td>\n",
              "      <td>Voiture</td>\n",
              "      <td>4870</td>\n",
              "      <td>moins que 100</td>\n",
              "      <td>entre 1 ans  et 4ans</td>\n",
              "      <td>Homme : Célibataire</td>\n",
              "      <td>Aucun</td>\n",
              "      <td>4</td>\n",
              "      <td>53</td>\n",
              "      <td>Gratuitement</td>\n",
              "      <td>2</td>\n",
              "      <td>Employé/Fonctionnaire</td>\n",
              "      <td>2</td>\n",
              "      <td>Non solvable</td>\n",
              "    </tr>\n",
              "  </tbody>\n",
              "</table>\n",
              "</div>"
            ],
            "text/plain": [
              "  Solde du compte courant  ...        Statut\n",
              "0             moins que 0  ...      Solvable\n",
              "1          entre 0 et 200  ...  Non solvable\n",
              "2   pas de compte courant  ...      Solvable\n",
              "3             moins que 0  ...      Solvable\n",
              "4             moins que 0  ...  Non solvable\n",
              "\n",
              "[5 rows x 16 columns]"
            ]
          },
          "metadata": {
            "tags": []
          },
          "execution_count": 99
        }
      ]
    },
    {
      "cell_type": "code",
      "metadata": {
        "id": "DdD3WvjWdqEj",
        "colab_type": "code",
        "outputId": "45da294b-84e0-41eb-a64c-2514b06f11ea",
        "colab": {
          "base_uri": "https://localhost:8080/",
          "height": 540
        }
      },
      "source": [
        "total = data.isnull().sum().sort_values(ascending=False)\n",
        "percent = (data.isnull().sum()/data.isnull().count()).sort_values(ascending=False)\n",
        "missing_data = pd.concat([total, percent], axis=1, keys=['Total', 'Percent'])\n",
        "missing_data.head(20)"
      ],
      "execution_count": 0,
      "outputs": [
        {
          "output_type": "execute_result",
          "data": {
            "text/html": [
              "<div>\n",
              "<style scoped>\n",
              "    .dataframe tbody tr th:only-of-type {\n",
              "        vertical-align: middle;\n",
              "    }\n",
              "\n",
              "    .dataframe tbody tr th {\n",
              "        vertical-align: top;\n",
              "    }\n",
              "\n",
              "    .dataframe thead th {\n",
              "        text-align: right;\n",
              "    }\n",
              "</style>\n",
              "<table border=\"1\" class=\"dataframe\">\n",
              "  <thead>\n",
              "    <tr style=\"text-align: right;\">\n",
              "      <th></th>\n",
              "      <th>Total</th>\n",
              "      <th>Percent</th>\n",
              "    </tr>\n",
              "  </thead>\n",
              "  <tbody>\n",
              "    <tr>\n",
              "      <th>Statut</th>\n",
              "      <td>0</td>\n",
              "      <td>0.0</td>\n",
              "    </tr>\n",
              "    <tr>\n",
              "      <th>Nombre de personnes à charge</th>\n",
              "      <td>0</td>\n",
              "      <td>0.0</td>\n",
              "    </tr>\n",
              "    <tr>\n",
              "      <th>Emploi</th>\n",
              "      <td>0</td>\n",
              "      <td>0.0</td>\n",
              "    </tr>\n",
              "    <tr>\n",
              "      <th>Nombre de crédits existants dans cette banque</th>\n",
              "      <td>0</td>\n",
              "      <td>0.0</td>\n",
              "    </tr>\n",
              "    <tr>\n",
              "      <th>Logement</th>\n",
              "      <td>0</td>\n",
              "      <td>0.0</td>\n",
              "    </tr>\n",
              "    <tr>\n",
              "      <th>Age</th>\n",
              "      <td>0</td>\n",
              "      <td>0.0</td>\n",
              "    </tr>\n",
              "    <tr>\n",
              "      <th>Résidence actuelle depuis</th>\n",
              "      <td>0</td>\n",
              "      <td>0.0</td>\n",
              "    </tr>\n",
              "    <tr>\n",
              "      <th>Autres débiteurs / garants</th>\n",
              "      <td>0</td>\n",
              "      <td>0.0</td>\n",
              "    </tr>\n",
              "    <tr>\n",
              "      <th>Statut personnel et sexe</th>\n",
              "      <td>0</td>\n",
              "      <td>0.0</td>\n",
              "    </tr>\n",
              "    <tr>\n",
              "      <th>Employé depuis</th>\n",
              "      <td>0</td>\n",
              "      <td>0.0</td>\n",
              "    </tr>\n",
              "    <tr>\n",
              "      <th>Compte d'épargne / obligations</th>\n",
              "      <td>0</td>\n",
              "      <td>0.0</td>\n",
              "    </tr>\n",
              "    <tr>\n",
              "      <th>Montant du crédit</th>\n",
              "      <td>0</td>\n",
              "      <td>0.0</td>\n",
              "    </tr>\n",
              "    <tr>\n",
              "      <th>Motif</th>\n",
              "      <td>0</td>\n",
              "      <td>0.0</td>\n",
              "    </tr>\n",
              "    <tr>\n",
              "      <th>Historique des crédits</th>\n",
              "      <td>0</td>\n",
              "      <td>0.0</td>\n",
              "    </tr>\n",
              "    <tr>\n",
              "      <th>Durée de crédit (en mois)</th>\n",
              "      <td>0</td>\n",
              "      <td>0.0</td>\n",
              "    </tr>\n",
              "    <tr>\n",
              "      <th>Solde du compte courant</th>\n",
              "      <td>0</td>\n",
              "      <td>0.0</td>\n",
              "    </tr>\n",
              "  </tbody>\n",
              "</table>\n",
              "</div>"
            ],
            "text/plain": [
              "                                               Total  Percent\n",
              "Statut                                             0      0.0\n",
              "Nombre de personnes à charge                       0      0.0\n",
              "Emploi                                             0      0.0\n",
              "Nombre de crédits existants dans cette banque      0      0.0\n",
              "Logement                                           0      0.0\n",
              "Age                                                0      0.0\n",
              "Résidence actuelle depuis                          0      0.0\n",
              "Autres débiteurs / garants                         0      0.0\n",
              "Statut personnel et sexe                           0      0.0\n",
              "Employé depuis                                     0      0.0\n",
              "Compte d'épargne / obligations                     0      0.0\n",
              "Montant du crédit                                  0      0.0\n",
              "Motif                                              0      0.0\n",
              "Historique des crédits                             0      0.0\n",
              "Durée de crédit (en mois)                          0      0.0\n",
              "Solde du compte courant                            0      0.0"
            ]
          },
          "metadata": {
            "tags": []
          },
          "execution_count": 100
        }
      ]
    },
    {
      "cell_type": "code",
      "metadata": {
        "id": "rEN0gAo2iBIN",
        "colab_type": "code",
        "outputId": "0eff87c6-4370-47c5-9d8a-91770b540dbd",
        "colab": {
          "base_uri": "https://localhost:8080/",
          "height": 69
        }
      },
      "source": [
        "data.Statut.value_counts()\n",
        "#Unbalanced data which can lead to biased predictions "
      ],
      "execution_count": 0,
      "outputs": [
        {
          "output_type": "execute_result",
          "data": {
            "text/plain": [
              "Solvable        700\n",
              "Non solvable    300\n",
              "Name: Statut, dtype: int64"
            ]
          },
          "metadata": {
            "tags": []
          },
          "execution_count": 101
        }
      ]
    },
    {
      "cell_type": "code",
      "metadata": {
        "id": "ufR9lfiCmnDn",
        "colab_type": "code",
        "outputId": "a8e220b2-fa10-4d68-f950-a24d2e45fb46",
        "colab": {
          "base_uri": "https://localhost:8080/",
          "height": 104
        }
      },
      "source": [
        "!pip install imbalanced-learn"
      ],
      "execution_count": 0,
      "outputs": [
        {
          "output_type": "stream",
          "text": [
            "Requirement already satisfied: imbalanced-learn in /usr/local/lib/python3.6/dist-packages (0.4.3)\n",
            "Requirement already satisfied: scikit-learn>=0.20 in /usr/local/lib/python3.6/dist-packages (from imbalanced-learn) (0.22.2.post1)\n",
            "Requirement already satisfied: numpy>=1.8.2 in /usr/local/lib/python3.6/dist-packages (from imbalanced-learn) (1.18.4)\n",
            "Requirement already satisfied: scipy>=0.13.3 in /usr/local/lib/python3.6/dist-packages (from imbalanced-learn) (1.4.1)\n",
            "Requirement already satisfied: joblib>=0.11 in /usr/local/lib/python3.6/dist-packages (from scikit-learn>=0.20->imbalanced-learn) (0.15.1)\n"
          ],
          "name": "stdout"
        }
      ]
    },
    {
      "cell_type": "code",
      "metadata": {
        "id": "4vMnal0CpbXC",
        "colab_type": "code",
        "colab": {}
      },
      "source": [
        "Y=data.Statut\n",
        "data=data.drop(['Statut'], axis=1)"
      ],
      "execution_count": 0,
      "outputs": []
    },
    {
      "cell_type": "code",
      "metadata": {
        "id": "oneCP-D3kNui",
        "colab_type": "code",
        "colab": {}
      },
      "source": [
        "from imblearn.over_sampling import SMOTENC\n",
        "\n",
        "smote = SMOTENC(categorical_features=[0,2,3,4,5,6,7,8,11,13])\n",
        "X_sm, y_sm = smote.fit_sample(data, Y)"
      ],
      "execution_count": 0,
      "outputs": []
    },
    {
      "cell_type": "code",
      "metadata": {
        "id": "stB0FRKNkOLF",
        "colab_type": "code",
        "outputId": "747a3ea2-deb5-4b0b-81ca-a8e9089967c4",
        "colab": {
          "base_uri": "https://localhost:8080/",
          "height": 69
        }
      },
      "source": [
        "balanceddata = pd.DataFrame(data = X_sm\n",
        "             , columns =data.columns)\n",
        "balanceddata['Statut']=y_sm\n",
        "balanceddata.Statut.value_counts()"
      ],
      "execution_count": 0,
      "outputs": [
        {
          "output_type": "execute_result",
          "data": {
            "text/plain": [
              "Non solvable    700\n",
              "Solvable        700\n",
              "Name: Statut, dtype: int64"
            ]
          },
          "metadata": {
            "tags": []
          },
          "execution_count": 105
        }
      ]
    },
    {
      "cell_type": "code",
      "metadata": {
        "id": "ySBcPgwcc7qg",
        "colab_type": "code",
        "outputId": "85900188-68ee-4e05-85ab-42a00f6b523c",
        "colab": {
          "base_uri": "https://localhost:8080/",
          "height": 156
        }
      },
      "source": [
        "data.columns"
      ],
      "execution_count": 0,
      "outputs": [
        {
          "output_type": "execute_result",
          "data": {
            "text/plain": [
              "Index(['Solde du compte courant', 'Durée de crédit (en mois)',\n",
              "       'Historique des crédits', 'Motif', 'Montant du crédit',\n",
              "       'Compte d'épargne / obligations', 'Employé depuis',\n",
              "       'Statut personnel et sexe', 'Autres débiteurs / garants',\n",
              "       'Résidence actuelle depuis', 'Age', 'Logement',\n",
              "       'Nombre de crédits existants dans cette banque', 'Emploi',\n",
              "       'Nombre de personnes à charge'],\n",
              "      dtype='object')"
            ]
          },
          "metadata": {
            "tags": []
          },
          "execution_count": 106
        }
      ]
    },
    {
      "cell_type": "code",
      "metadata": {
        "id": "laqk5ZU-ewYt",
        "colab_type": "code",
        "outputId": "5b0ce4b0-1c1d-4b97-886a-f0761014c431",
        "colab": {
          "base_uri": "https://localhost:8080/",
          "height": 296
        }
      },
      "source": [
        "sns.countplot(y='Solde du compte courant',hue='Statut',data=balanceddata)"
      ],
      "execution_count": 0,
      "outputs": [
        {
          "output_type": "execute_result",
          "data": {
            "text/plain": [
              "<matplotlib.axes._subplots.AxesSubplot at 0x7f6ef4001e80>"
            ]
          },
          "metadata": {
            "tags": []
          },
          "execution_count": 107
        },
        {
          "output_type": "display_data",
          "data": {
            "image/png": "[encoded data removed]",
            "text/plain": [
              "<Figure size 432x288 with 1 Axes>"
            ]
          },
          "metadata": {
            "tags": [],
            "needs_background": "light"
          }
        }
      ]
    },
    {
      "cell_type": "code",
      "metadata": {
        "id": "nBLxZd35ewbT",
        "colab_type": "code",
        "outputId": "82d68ada-18c4-49cb-a6f8-bb1382877bcb",
        "colab": {
          "base_uri": "https://localhost:8080/",
          "height": 296
        }
      },
      "source": [
        "sns.boxplot(x ='Statut', y ='Durée de crédit (en mois)', data = balanceddata)"
      ],
      "execution_count": 0,
      "outputs": [
        {
          "output_type": "execute_result",
          "data": {
            "text/plain": [
              "<matplotlib.axes._subplots.AxesSubplot at 0x7f6ef401aac8>"
            ]
          },
          "metadata": {
            "tags": []
          },
          "execution_count": 108
        },
        {
          "output_type": "display_data",
          "data": {
            "image/png": "[encoded data removed]",
            "text/plain": [
              "<Figure size 432x288 with 1 Axes>"
            ]
          },
          "metadata": {
            "tags": [],
            "needs_background": "light"
          }
        }
      ]
    },
    {
      "cell_type": "code",
      "metadata": {
        "id": "OWQJj6EZeweb",
        "colab_type": "code",
        "outputId": "976d9dce-4c20-42f0-8b98-4955d22ee7b9",
        "colab": {
          "base_uri": "https://localhost:8080/",
          "height": 296
        }
      },
      "source": [
        "sns.countplot(y='Historique des crédits',hue='Statut',data=balanceddata)"
      ],
      "execution_count": 0,
      "outputs": [
        {
          "output_type": "execute_result",
          "data": {
            "text/plain": [
              "<matplotlib.axes._subplots.AxesSubplot at 0x7f6ef3ffba58>"
            ]
          },
          "metadata": {
            "tags": []
          },
          "execution_count": 109
        },
        {
          "output_type": "display_data",
          "data": {
            "image/png": "[encoded data removed]",
            "text/plain": [
              "<Figure size 432x288 with 1 Axes>"
            ]
          },
          "metadata": {
            "tags": [],
            "needs_background": "light"
          }
        }
      ]
    },
    {
      "cell_type": "code",
      "metadata": {
        "id": "Vn0Yw1EjmKSR",
        "colab_type": "code",
        "outputId": "0441a5b3-d758-4fb1-ae43-f2ece3dad62d",
        "colab": {
          "base_uri": "https://localhost:8080/",
          "height": 296
        }
      },
      "source": [
        "sns.countplot(y='Statut personnel et sexe',hue='Statut',data=balanceddata)"
      ],
      "execution_count": 0,
      "outputs": [
        {
          "output_type": "execute_result",
          "data": {
            "text/plain": [
              "<matplotlib.axes._subplots.AxesSubplot at 0x7f6ef3eb3eb8>"
            ]
          },
          "metadata": {
            "tags": []
          },
          "execution_count": 110
        },
        {
          "output_type": "display_data",
          "data": {
            "image/png": "[encoded data removed]",
            "text/plain": [
              "<Figure size 432x288 with 1 Axes>"
            ]
          },
          "metadata": {
            "tags": [],
            "needs_background": "light"
          }
        }
      ]
    },
    {
      "cell_type": "code",
      "metadata": {
        "id": "yTa_sh3nmENQ",
        "colab_type": "code",
        "outputId": "2a9b0be8-f2d7-4f09-fc6c-605f3731b54e",
        "colab": {
          "base_uri": "https://localhost:8080/",
          "height": 296
        }
      },
      "source": [
        "sns.countplot(y='Logement',hue='Statut',data=balanceddata)"
      ],
      "execution_count": 0,
      "outputs": [
        {
          "output_type": "execute_result",
          "data": {
            "text/plain": [
              "<matplotlib.axes._subplots.AxesSubplot at 0x7f6ef3dbb860>"
            ]
          },
          "metadata": {
            "tags": []
          },
          "execution_count": 111
        },
        {
          "output_type": "display_data",
          "data": {
            "image/png": "[encoded data removed]",
            "text/plain": [
              "<Figure size 432x288 with 1 Axes>"
            ]
          },
          "metadata": {
            "tags": [],
            "needs_background": "light"
          }
        }
      ]
    },
    {
      "cell_type": "code",
      "metadata": {
        "id": "Jz0B2wQCuL_v",
        "colab_type": "code",
        "outputId": "acfc7c1a-22cd-4321-9b87-c33ad6aa9b9f",
        "colab": {
          "base_uri": "https://localhost:8080/",
          "height": 296
        }
      },
      "source": [
        "sns.countplot(y='Emploi',hue='Statut',data=balanceddata)"
      ],
      "execution_count": 0,
      "outputs": [
        {
          "output_type": "execute_result",
          "data": {
            "text/plain": [
              "<matplotlib.axes._subplots.AxesSubplot at 0x7f6ef3d71390>"
            ]
          },
          "metadata": {
            "tags": []
          },
          "execution_count": 112
        },
        {
          "output_type": "display_data",
          "data": {
            "image/png": "[encoded data removed]",
            "text/plain": [
              "<Figure size 432x288 with 1 Axes>"
            ]
          },
          "metadata": {
            "tags": [],
            "needs_background": "light"
          }
        }
      ]
    },
    {
      "cell_type": "code",
      "metadata": {
        "id": "8b2Nbo3qeXmr",
        "colab_type": "code",
        "colab": {}
      },
      "source": [
        "def f(x):\n",
        "  if  x==\"Solvable\":\n",
        "    return 1 \n",
        "  else :\n",
        "    return 0 \n",
        "balanceddata.Statut=balanceddata.Statut.apply(f)\n",
        "\n"
      ],
      "execution_count": 0,
      "outputs": []
    },
    {
      "cell_type": "code",
      "metadata": {
        "id": "2rSLHpTlCkbA",
        "colab_type": "code",
        "outputId": "2a51e5b3-f70c-4a19-c148-f2b811b8d39d",
        "colab": {
          "base_uri": "https://localhost:8080/",
          "height": 312
        }
      },
      "source": [
        "balanceddata.dtypes"
      ],
      "execution_count": 0,
      "outputs": [
        {
          "output_type": "execute_result",
          "data": {
            "text/plain": [
              "Solde du compte courant                          object\n",
              "Durée de crédit (en mois)                        object\n",
              "Historique des crédits                           object\n",
              "Motif                                            object\n",
              "Montant du crédit                                object\n",
              "Compte d'épargne / obligations                   object\n",
              "Employé depuis                                   object\n",
              "Statut personnel et sexe                         object\n",
              "Autres débiteurs / garants                       object\n",
              "Résidence actuelle depuis                        object\n",
              "Age                                              object\n",
              "Logement                                         object\n",
              "Nombre de crédits existants dans cette banque    object\n",
              "Emploi                                           object\n",
              "Nombre de personnes à charge                     object\n",
              "Statut                                            int64\n",
              "dtype: object"
            ]
          },
          "metadata": {
            "tags": []
          },
          "execution_count": 114
        }
      ]
    },
    {
      "cell_type": "code",
      "metadata": {
        "id": "lzZgxgegwz6s",
        "colab_type": "code",
        "colab": {}
      },
      "source": [
        "for i in ['Durée de crédit (en mois)','Montant du crédit','Résidence actuelle depuis','Age','Nombre de crédits existants dans cette banque','Nombre de personnes à charge']:\n",
        "  balanceddata[i]=balanceddata[i].astype(int)  "
      ],
      "execution_count": 0,
      "outputs": []
    },
    {
      "cell_type": "code",
      "metadata": {
        "id": "p-Y1a3nu_xcn",
        "colab_type": "code",
        "colab": {}
      },
      "source": [
        "balanceddata=balanceddata.replace('Voiture ','Voiture')"
      ],
      "execution_count": 0,
      "outputs": []
    },
    {
      "cell_type": "code",
      "metadata": {
        "id": "mMoVLeMGCa8w",
        "colab_type": "code",
        "outputId": "a5956c06-296e-4854-b6db-6b17b5a9fe70",
        "colab": {
          "base_uri": "https://localhost:8080/",
          "height": 104
        }
      },
      "source": [
        "balanceddata.select_dtypes(exclude=['int']).columns"
      ],
      "execution_count": 0,
      "outputs": [
        {
          "output_type": "execute_result",
          "data": {
            "text/plain": [
              "Index(['Solde du compte courant', 'Historique des crédits', 'Motif',\n",
              "       'Compte d'épargne / obligations', 'Employé depuis',\n",
              "       'Statut personnel et sexe', 'Autres débiteurs / garants', 'Logement',\n",
              "       'Emploi'],\n",
              "      dtype='object')"
            ]
          },
          "metadata": {
            "tags": []
          },
          "execution_count": 117
        }
      ]
    },
    {
      "cell_type": "code",
      "metadata": {
        "id": "hJw_qhTlCNvL",
        "colab_type": "code",
        "colab": {}
      },
      "source": [
        "from sklearn import preprocessing \n",
        "L=[]\n",
        "# label_encoder object knows how to understand word labels. \n",
        "label_encoder = preprocessing.LabelEncoder() \n",
        "for i in ['Solde du compte courant', 'Historique des crédits', 'Motif',\n",
        "       \"Compte d'épargne / obligations\", 'Employé depuis',\n",
        "       'Statut personnel et sexe', 'Autres débiteurs / garants', 'Logement',\n",
        "       'Emploi']:\n",
        "        balanceddata[i]= label_encoder.fit_transform(balanceddata[i]) \n",
        "        L.append(label_encoder.classes_)\n",
        "# Encode labels in column 'species'. \n"
      ],
      "execution_count": 0,
      "outputs": []
    },
    {
      "cell_type": "code",
      "metadata": {
        "id": "t5tIxvhfER79",
        "colab_type": "code",
        "outputId": "006e533a-2b21-4e36-936d-8e731d17eb22",
        "colab": {
          "base_uri": "https://localhost:8080/",
          "height": 381
        }
      },
      "source": [
        "L"
      ],
      "execution_count": 0,
      "outputs": [
        {
          "output_type": "execute_result",
          "data": {
            "text/plain": [
              "[array(['entre 0 et 200', 'moins que 0', 'pas de compte courant',\n",
              "        'supérieur 200'], dtype=object),\n",
              " array([' tous les crédits de cette banque ont été remboursés',\n",
              "        'aucun crédit pris / tous les crédits remboursés',\n",
              "        'compte critique / autres crédits existants (pas dans cette banque)',\n",
              "        \"crédits déjà remboursés jusqu'à maintenant\",\n",
              "        'retard dans le paiement dans le passé'], dtype=object),\n",
              " array(['Appareil électroménager', 'Autres', 'Education',\n",
              "        'Projet/Education', 'Recyclage (reconversion)', 'Réparation',\n",
              "        'Télévision', 'Voiture', 'fourniture/équipement'], dtype=object),\n",
              " array(['Pas de compte épargne', 'entre 100 et 500', 'entre 500 et 1000',\n",
              "        'moins que 100', 'supérieur 1000'], dtype=object),\n",
              " array(['En chômage', 'entre 1 ans  et 4ans', 'entre 4ans et 7ans',\n",
              "        'inferieur 1ans', 'supérieur 7ans'], dtype=object),\n",
              " array([': Femme : Divorcée/Mariée', 'Homme : Célibataire',\n",
              "        'Homme : Divorcé', 'Homme : Marié/Veuf'], dtype=object),\n",
              " array(['Aucun', 'Codemandeur', 'Garant'], dtype=object),\n",
              " array([' Propriétaire', 'Gratuitement', 'Locataire'], dtype=object),\n",
              " array(['Employé/Fonctionnaire', 'Manager/Indépendant/Ouvrier Qualifié',\n",
              "        'non qualifié - résident',\n",
              "        'sans emploi / non qualifié - non-résident'], dtype=object)]"
            ]
          },
          "metadata": {
            "tags": []
          },
          "execution_count": 119
        }
      ]
    },
    {
      "cell_type": "code",
      "metadata": {
        "id": "IHcYdhffkdfC",
        "colab_type": "code",
        "colab": {}
      },
      "source": [
        "Y=balanceddata.Statut\n",
        "#balanceddata=pd.get_dummies(balanceddata)\n",
        "balanceddata=balanceddata.drop(['Statut'], axis=1)"
      ],
      "execution_count": 0,
      "outputs": []
    },
    {
      "cell_type": "code",
      "metadata": {
        "id": "bEHcmICxsgRC",
        "colab_type": "code",
        "colab": {}
      },
      "source": [
        "X_train, val_X, Y_train, val_y = train_test_split(balanceddata, Y,random_state=0)"
      ],
      "execution_count": 0,
      "outputs": []
    },
    {
      "cell_type": "code",
      "metadata": {
        "id": "LmNcOZDztNxm",
        "colab_type": "code",
        "outputId": "520d81d3-b6ce-4a81-9138-90c5df3199bc",
        "colab": {
          "base_uri": "https://localhost:8080/",
          "height": 52
        }
      },
      "source": [
        "from sklearn.metrics import roc_auc_score,roc_curve , accuracy_score\n",
        "\n",
        "lr=LogisticRegression()\n",
        "lr.fit(X_train,Y_train)\n",
        "preds = lr.predict(val_X)\n",
        "preds1 = lr.predict(X_train)\n",
        "\n",
        "val_mae2=accuracy_score(val_y, preds)\n",
        "val_mae1=accuracy_score(Y_train, preds1)\n",
        "print(val_mae1)\n",
        "val_mae2"
      ],
      "execution_count": 0,
      "outputs": [
        {
          "output_type": "stream",
          "text": [
            "0.7161904761904762\n"
          ],
          "name": "stdout"
        },
        {
          "output_type": "execute_result",
          "data": {
            "text/plain": [
              "0.7171428571428572"
            ]
          },
          "metadata": {
            "tags": []
          },
          "execution_count": 122
        }
      ]
    },
    {
      "cell_type": "code",
      "metadata": {
        "id": "PC61SIYdi4VL",
        "colab_type": "code",
        "outputId": "3dc4f3ba-186c-4830-c23b-7a443f9f4f82",
        "colab": {
          "base_uri": "https://localhost:8080/",
          "height": 34
        }
      },
      "source": [
        "lr.predict(X_train)"
      ],
      "execution_count": 0,
      "outputs": [
        {
          "output_type": "execute_result",
          "data": {
            "text/plain": [
              "array([0, 0, 0, ..., 0, 0, 1])"
            ]
          },
          "metadata": {
            "tags": []
          },
          "execution_count": 123
        }
      ]
    },
    {
      "cell_type": "code",
      "metadata": {
        "id": "7wBW0PxHiq6F",
        "colab_type": "code",
        "outputId": "e9c91076-ff43-430f-c1a7-89b2c74a03ca",
        "colab": {
          "base_uri": "https://localhost:8080/",
          "height": 52
        }
      },
      "source": [
        "lr.predict_proba(X_train)[:,1]"
      ],
      "execution_count": 0,
      "outputs": [
        {
          "output_type": "execute_result",
          "data": {
            "text/plain": [
              "array([0.40163251, 0.14559087, 0.28384081, ..., 0.16289951, 0.31269344,\n",
              "       0.55336988])"
            ]
          },
          "metadata": {
            "tags": []
          },
          "execution_count": 124
        }
      ]
    },
    {
      "cell_type": "code",
      "metadata": {
        "id": "Mx3vmCjOwC7f",
        "colab_type": "code",
        "outputId": "fd3ca54c-704f-4269-8ac6-58c71884ca67",
        "colab": {
          "base_uri": "https://localhost:8080/",
          "height": 52
        }
      },
      "source": [
        "from sklearn.metrics import confusion_matrix\n",
        "predic = lr.predict(balanceddata)\n",
        "confusion_matrix(Y,predic)"
      ],
      "execution_count": 0,
      "outputs": [
        {
          "output_type": "execute_result",
          "data": {
            "text/plain": [
              "array([[497, 203],\n",
              "       [194, 506]])"
            ]
          },
          "metadata": {
            "tags": []
          },
          "execution_count": 125
        }
      ]
    },
    {
      "cell_type": "code",
      "metadata": {
        "id": "pGsqQL9lwN0r",
        "colab_type": "code",
        "outputId": "f0b52a51-c163-4872-e1f2-33ac0772d156",
        "colab": {
          "base_uri": "https://localhost:8080/",
          "height": 509
        }
      },
      "source": [
        "coefs=pd.DataFrame()\n",
        "coefs['features']=X_train.columns\n",
        "coefs['coefs']=lr.coef_[0]\n",
        "coefs"
      ],
      "execution_count": 0,
      "outputs": [
        {
          "output_type": "execute_result",
          "data": {
            "text/html": [
              "<div>\n",
              "<style scoped>\n",
              "    .dataframe tbody tr th:only-of-type {\n",
              "        vertical-align: middle;\n",
              "    }\n",
              "\n",
              "    .dataframe tbody tr th {\n",
              "        vertical-align: top;\n",
              "    }\n",
              "\n",
              "    .dataframe thead th {\n",
              "        text-align: right;\n",
              "    }\n",
              "</style>\n",
              "<table border=\"1\" class=\"dataframe\">\n",
              "  <thead>\n",
              "    <tr style=\"text-align: right;\">\n",
              "      <th></th>\n",
              "      <th>features</th>\n",
              "      <th>coefs</th>\n",
              "    </tr>\n",
              "  </thead>\n",
              "  <tbody>\n",
              "    <tr>\n",
              "      <th>0</th>\n",
              "      <td>Solde du compte courant</td>\n",
              "      <td>0.828106</td>\n",
              "    </tr>\n",
              "    <tr>\n",
              "      <th>1</th>\n",
              "      <td>Durée de crédit (en mois)</td>\n",
              "      <td>-0.047647</td>\n",
              "    </tr>\n",
              "    <tr>\n",
              "      <th>2</th>\n",
              "      <td>Historique des crédits</td>\n",
              "      <td>0.060175</td>\n",
              "    </tr>\n",
              "    <tr>\n",
              "      <th>3</th>\n",
              "      <td>Motif</td>\n",
              "      <td>-0.031823</td>\n",
              "    </tr>\n",
              "    <tr>\n",
              "      <th>4</th>\n",
              "      <td>Montant du crédit</td>\n",
              "      <td>0.000038</td>\n",
              "    </tr>\n",
              "    <tr>\n",
              "      <th>5</th>\n",
              "      <td>Compte d'épargne / obligations</td>\n",
              "      <td>-0.478676</td>\n",
              "    </tr>\n",
              "    <tr>\n",
              "      <th>6</th>\n",
              "      <td>Employé depuis</td>\n",
              "      <td>-0.098589</td>\n",
              "    </tr>\n",
              "    <tr>\n",
              "      <th>7</th>\n",
              "      <td>Statut personnel et sexe</td>\n",
              "      <td>0.264935</td>\n",
              "    </tr>\n",
              "    <tr>\n",
              "      <th>8</th>\n",
              "      <td>Autres débiteurs / garants</td>\n",
              "      <td>0.334965</td>\n",
              "    </tr>\n",
              "    <tr>\n",
              "      <th>9</th>\n",
              "      <td>Résidence actuelle depuis</td>\n",
              "      <td>0.092400</td>\n",
              "    </tr>\n",
              "    <tr>\n",
              "      <th>10</th>\n",
              "      <td>Age</td>\n",
              "      <td>0.007720</td>\n",
              "    </tr>\n",
              "    <tr>\n",
              "      <th>11</th>\n",
              "      <td>Logement</td>\n",
              "      <td>-0.117650</td>\n",
              "    </tr>\n",
              "    <tr>\n",
              "      <th>12</th>\n",
              "      <td>Nombre de crédits existants dans cette banque</td>\n",
              "      <td>0.349539</td>\n",
              "    </tr>\n",
              "    <tr>\n",
              "      <th>13</th>\n",
              "      <td>Emploi</td>\n",
              "      <td>0.154824</td>\n",
              "    </tr>\n",
              "    <tr>\n",
              "      <th>14</th>\n",
              "      <td>Nombre de personnes à charge</td>\n",
              "      <td>0.133971</td>\n",
              "    </tr>\n",
              "  </tbody>\n",
              "</table>\n",
              "</div>"
            ],
            "text/plain": [
              "                                         features     coefs\n",
              "0                         Solde du compte courant  0.828106\n",
              "1                       Durée de crédit (en mois) -0.047647\n",
              "2                          Historique des crédits  0.060175\n",
              "3                                           Motif -0.031823\n",
              "4                               Montant du crédit  0.000038\n",
              "5                  Compte d'épargne / obligations -0.478676\n",
              "6                                  Employé depuis -0.098589\n",
              "7                        Statut personnel et sexe  0.264935\n",
              "8                      Autres débiteurs / garants  0.334965\n",
              "9                       Résidence actuelle depuis  0.092400\n",
              "10                                            Age  0.007720\n",
              "11                                       Logement -0.117650\n",
              "12  Nombre de crédits existants dans cette banque  0.349539\n",
              "13                                         Emploi  0.154824\n",
              "14                   Nombre de personnes à charge  0.133971"
            ]
          },
          "metadata": {
            "tags": []
          },
          "execution_count": 126
        }
      ]
    },
    {
      "cell_type": "code",
      "metadata": {
        "id": "OP6MU_I303uo",
        "colab_type": "code",
        "outputId": "4bd86402-7ec7-423d-d12d-2dcd85b83c3c",
        "colab": {
          "base_uri": "https://localhost:8080/",
          "height": 52
        }
      },
      "source": [
        "from sklearn.metrics import roc_auc_score,roc_curve , accuracy_score\n",
        "\n",
        "RFC=RandomForestClassifier(random_state=90)\n",
        "RFC.fit(X_train,Y_train)\n",
        "preds = RFC.predict(val_X)\n",
        "preds1 = RFC.predict(X_train)\n",
        "\n",
        "val_mae2=accuracy_score(val_y, preds)\n",
        "val_mae1=accuracy_score(Y_train, preds1)\n",
        "print(val_mae1)\n",
        "val_mae2"
      ],
      "execution_count": 0,
      "outputs": [
        {
          "output_type": "stream",
          "text": [
            "1.0\n"
          ],
          "name": "stdout"
        },
        {
          "output_type": "execute_result",
          "data": {
            "text/plain": [
              "0.8057142857142857"
            ]
          },
          "metadata": {
            "tags": []
          },
          "execution_count": 127
        }
      ]
    },
    {
      "cell_type": "code",
      "metadata": {
        "id": "dZ8iSLbhjZbS",
        "colab_type": "code",
        "outputId": "adba5176-6956-4b7f-8e72-41cdeb947970",
        "colab": {
          "base_uri": "https://localhost:8080/",
          "height": 34
        }
      },
      "source": [
        "RFC.predict_proba(X_train)[:,1]"
      ],
      "execution_count": 0,
      "outputs": [
        {
          "output_type": "execute_result",
          "data": {
            "text/plain": [
              "array([0.75, 0.04, 0.02, ..., 0.11, 0.11, 0.84])"
            ]
          },
          "metadata": {
            "tags": []
          },
          "execution_count": 128
        }
      ]
    },
    {
      "cell_type": "code",
      "metadata": {
        "id": "OSFYyyKUiP8T",
        "colab_type": "code",
        "outputId": "918c5488-6f69-496e-a485-2f8838a1c4ce",
        "colab": {
          "base_uri": "https://localhost:8080/",
          "height": 52
        }
      },
      "source": [
        "predic = RFC.predict(balanceddata)\n",
        "confusion_matrix(Y,predic)"
      ],
      "execution_count": 0,
      "outputs": [
        {
          "output_type": "execute_result",
          "data": {
            "text/plain": [
              "array([[665,  35],\n",
              "       [ 33, 667]])"
            ]
          },
          "metadata": {
            "tags": []
          },
          "execution_count": 129
        }
      ]
    },
    {
      "cell_type": "code",
      "metadata": {
        "id": "hzCJ_6uHh4uE",
        "colab_type": "code",
        "outputId": "9a7b0db9-0a3b-41e4-cbe2-25d1c2bc65b3",
        "colab": {
          "base_uri": "https://localhost:8080/",
          "height": 509
        }
      },
      "source": [
        "coefs=pd.DataFrame()\n",
        "coefs['features']=X_train.columns\n",
        "coefs['coefs']=RFC.feature_importances_\n",
        "coefs"
      ],
      "execution_count": 0,
      "outputs": [
        {
          "output_type": "execute_result",
          "data": {
            "text/html": [
              "<div>\n",
              "<style scoped>\n",
              "    .dataframe tbody tr th:only-of-type {\n",
              "        vertical-align: middle;\n",
              "    }\n",
              "\n",
              "    .dataframe tbody tr th {\n",
              "        vertical-align: top;\n",
              "    }\n",
              "\n",
              "    .dataframe thead th {\n",
              "        text-align: right;\n",
              "    }\n",
              "</style>\n",
              "<table border=\"1\" class=\"dataframe\">\n",
              "  <thead>\n",
              "    <tr style=\"text-align: right;\">\n",
              "      <th></th>\n",
              "      <th>features</th>\n",
              "      <th>coefs</th>\n",
              "    </tr>\n",
              "  </thead>\n",
              "  <tbody>\n",
              "    <tr>\n",
              "      <th>0</th>\n",
              "      <td>Solde du compte courant</td>\n",
              "      <td>0.170129</td>\n",
              "    </tr>\n",
              "    <tr>\n",
              "      <th>1</th>\n",
              "      <td>Durée de crédit (en mois)</td>\n",
              "      <td>0.111633</td>\n",
              "    </tr>\n",
              "    <tr>\n",
              "      <th>2</th>\n",
              "      <td>Historique des crédits</td>\n",
              "      <td>0.050677</td>\n",
              "    </tr>\n",
              "    <tr>\n",
              "      <th>3</th>\n",
              "      <td>Motif</td>\n",
              "      <td>0.063073</td>\n",
              "    </tr>\n",
              "    <tr>\n",
              "      <th>4</th>\n",
              "      <td>Montant du crédit</td>\n",
              "      <td>0.130685</td>\n",
              "    </tr>\n",
              "    <tr>\n",
              "      <th>5</th>\n",
              "      <td>Compte d'épargne / obligations</td>\n",
              "      <td>0.083111</td>\n",
              "    </tr>\n",
              "    <tr>\n",
              "      <th>6</th>\n",
              "      <td>Employé depuis</td>\n",
              "      <td>0.053975</td>\n",
              "    </tr>\n",
              "    <tr>\n",
              "      <th>7</th>\n",
              "      <td>Statut personnel et sexe</td>\n",
              "      <td>0.041589</td>\n",
              "    </tr>\n",
              "    <tr>\n",
              "      <th>8</th>\n",
              "      <td>Autres débiteurs / garants</td>\n",
              "      <td>0.031169</td>\n",
              "    </tr>\n",
              "    <tr>\n",
              "      <th>9</th>\n",
              "      <td>Résidence actuelle depuis</td>\n",
              "      <td>0.048205</td>\n",
              "    </tr>\n",
              "    <tr>\n",
              "      <th>10</th>\n",
              "      <td>Age</td>\n",
              "      <td>0.117221</td>\n",
              "    </tr>\n",
              "    <tr>\n",
              "      <th>11</th>\n",
              "      <td>Logement</td>\n",
              "      <td>0.021496</td>\n",
              "    </tr>\n",
              "    <tr>\n",
              "      <th>12</th>\n",
              "      <td>Nombre de crédits existants dans cette banque</td>\n",
              "      <td>0.026292</td>\n",
              "    </tr>\n",
              "    <tr>\n",
              "      <th>13</th>\n",
              "      <td>Emploi</td>\n",
              "      <td>0.035469</td>\n",
              "    </tr>\n",
              "    <tr>\n",
              "      <th>14</th>\n",
              "      <td>Nombre de personnes à charge</td>\n",
              "      <td>0.015277</td>\n",
              "    </tr>\n",
              "  </tbody>\n",
              "</table>\n",
              "</div>"
            ],
            "text/plain": [
              "                                         features     coefs\n",
              "0                         Solde du compte courant  0.170129\n",
              "1                       Durée de crédit (en mois)  0.111633\n",
              "2                          Historique des crédits  0.050677\n",
              "3                                           Motif  0.063073\n",
              "4                               Montant du crédit  0.130685\n",
              "5                  Compte d'épargne / obligations  0.083111\n",
              "6                                  Employé depuis  0.053975\n",
              "7                        Statut personnel et sexe  0.041589\n",
              "8                      Autres débiteurs / garants  0.031169\n",
              "9                       Résidence actuelle depuis  0.048205\n",
              "10                                            Age  0.117221\n",
              "11                                       Logement  0.021496\n",
              "12  Nombre de crédits existants dans cette banque  0.026292\n",
              "13                                         Emploi  0.035469\n",
              "14                   Nombre de personnes à charge  0.015277"
            ]
          },
          "metadata": {
            "tags": []
          },
          "execution_count": 130
        }
      ]
    },
    {
      "cell_type": "code",
      "metadata": {
        "id": "bxL6RdJ9wcvz",
        "colab_type": "code",
        "outputId": "788d181d-c02f-42a5-bd01-6e9032cfab86",
        "colab": {
          "base_uri": "https://localhost:8080/",
          "height": 272
        }
      },
      "source": [
        "balanceddata['probabilty to be accepted']= RFC.predict_proba(balanceddata)[:,1]\n",
        "balanceddata.head()"
      ],
      "execution_count": 0,
      "outputs": [
        {
          "output_type": "execute_result",
          "data": {
            "text/html": [
              "<div>\n",
              "<style scoped>\n",
              "    .dataframe tbody tr th:only-of-type {\n",
              "        vertical-align: middle;\n",
              "    }\n",
              "\n",
              "    .dataframe tbody tr th {\n",
              "        vertical-align: top;\n",
              "    }\n",
              "\n",
              "    .dataframe thead th {\n",
              "        text-align: right;\n",
              "    }\n",
              "</style>\n",
              "<table border=\"1\" class=\"dataframe\">\n",
              "  <thead>\n",
              "    <tr style=\"text-align: right;\">\n",
              "      <th></th>\n",
              "      <th>Solde du compte courant</th>\n",
              "      <th>Durée de crédit (en mois)</th>\n",
              "      <th>Historique des crédits</th>\n",
              "      <th>Motif</th>\n",
              "      <th>Montant du crédit</th>\n",
              "      <th>Compte d'épargne / obligations</th>\n",
              "      <th>Employé depuis</th>\n",
              "      <th>Statut personnel et sexe</th>\n",
              "      <th>Autres débiteurs / garants</th>\n",
              "      <th>Résidence actuelle depuis</th>\n",
              "      <th>Age</th>\n",
              "      <th>Logement</th>\n",
              "      <th>Nombre de crédits existants dans cette banque</th>\n",
              "      <th>Emploi</th>\n",
              "      <th>Nombre de personnes à charge</th>\n",
              "      <th>probabilty to be accepted</th>\n",
              "    </tr>\n",
              "  </thead>\n",
              "  <tbody>\n",
              "    <tr>\n",
              "      <th>0</th>\n",
              "      <td>1</td>\n",
              "      <td>6</td>\n",
              "      <td>2</td>\n",
              "      <td>6</td>\n",
              "      <td>1169</td>\n",
              "      <td>0</td>\n",
              "      <td>4</td>\n",
              "      <td>1</td>\n",
              "      <td>0</td>\n",
              "      <td>4</td>\n",
              "      <td>67</td>\n",
              "      <td>0</td>\n",
              "      <td>2</td>\n",
              "      <td>0</td>\n",
              "      <td>1</td>\n",
              "      <td>0.95</td>\n",
              "    </tr>\n",
              "    <tr>\n",
              "      <th>1</th>\n",
              "      <td>0</td>\n",
              "      <td>48</td>\n",
              "      <td>3</td>\n",
              "      <td>6</td>\n",
              "      <td>5951</td>\n",
              "      <td>3</td>\n",
              "      <td>1</td>\n",
              "      <td>0</td>\n",
              "      <td>0</td>\n",
              "      <td>2</td>\n",
              "      <td>22</td>\n",
              "      <td>0</td>\n",
              "      <td>1</td>\n",
              "      <td>0</td>\n",
              "      <td>1</td>\n",
              "      <td>0.07</td>\n",
              "    </tr>\n",
              "    <tr>\n",
              "      <th>2</th>\n",
              "      <td>2</td>\n",
              "      <td>12</td>\n",
              "      <td>2</td>\n",
              "      <td>2</td>\n",
              "      <td>2096</td>\n",
              "      <td>3</td>\n",
              "      <td>2</td>\n",
              "      <td>1</td>\n",
              "      <td>0</td>\n",
              "      <td>3</td>\n",
              "      <td>49</td>\n",
              "      <td>0</td>\n",
              "      <td>1</td>\n",
              "      <td>2</td>\n",
              "      <td>2</td>\n",
              "      <td>0.69</td>\n",
              "    </tr>\n",
              "    <tr>\n",
              "      <th>3</th>\n",
              "      <td>1</td>\n",
              "      <td>42</td>\n",
              "      <td>3</td>\n",
              "      <td>8</td>\n",
              "      <td>7882</td>\n",
              "      <td>3</td>\n",
              "      <td>2</td>\n",
              "      <td>1</td>\n",
              "      <td>2</td>\n",
              "      <td>4</td>\n",
              "      <td>45</td>\n",
              "      <td>1</td>\n",
              "      <td>1</td>\n",
              "      <td>0</td>\n",
              "      <td>2</td>\n",
              "      <td>0.77</td>\n",
              "    </tr>\n",
              "    <tr>\n",
              "      <th>4</th>\n",
              "      <td>1</td>\n",
              "      <td>24</td>\n",
              "      <td>4</td>\n",
              "      <td>7</td>\n",
              "      <td>4870</td>\n",
              "      <td>3</td>\n",
              "      <td>1</td>\n",
              "      <td>1</td>\n",
              "      <td>0</td>\n",
              "      <td>4</td>\n",
              "      <td>53</td>\n",
              "      <td>1</td>\n",
              "      <td>2</td>\n",
              "      <td>0</td>\n",
              "      <td>2</td>\n",
              "      <td>0.26</td>\n",
              "    </tr>\n",
              "  </tbody>\n",
              "</table>\n",
              "</div>"
            ],
            "text/plain": [
              "   Solde du compte courant  ...  probabilty to be accepted\n",
              "0                        1  ...                       0.95\n",
              "1                        0  ...                       0.07\n",
              "2                        2  ...                       0.69\n",
              "3                        1  ...                       0.77\n",
              "4                        1  ...                       0.26\n",
              "\n",
              "[5 rows x 16 columns]"
            ]
          },
          "metadata": {
            "tags": []
          },
          "execution_count": 131
        }
      ]
    },
    {
      "cell_type": "code",
      "metadata": {
        "id": "yJU-J2KFOKAq",
        "colab_type": "code",
        "colab": {}
      },
      "source": [
        "import pickle\n",
        "with open('RFC.pkl', 'wb') as file:\n",
        "  pickle.dump(RFC, file)"
      ],
      "execution_count": 0,
      "outputs": []
    }
  ]
}